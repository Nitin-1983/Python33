{
 "cells": [
  {
   "cell_type": "code",
   "execution_count": null,
   "id": "88dbccb8",
   "metadata": {},
   "outputs": [],
   "source": [
    "database insert\n",
    "\n",
    "data application  -- another application -- api"
   ]
  },
  {
   "cell_type": "code",
   "execution_count": null,
   "id": "3176426d",
   "metadata": {},
   "outputs": [],
   "source": []
  },
  {
   "cell_type": "code",
   "execution_count": null,
   "id": "0177cbb8",
   "metadata": {},
   "outputs": [],
   "source": [
    "dict:\n",
    "    it is collection of items\n",
    "    items  --> key:value pair\n",
    "        {}\n",
    "        it mutable type\n",
    "        \n",
    "        key -- immutable type ---> str,number,(tuple,frozenset)  - is not used\n",
    "        value --> mutable/immutable\n",
    "        \n",
    "        \n",
    "        duplicate is not possible if we define it will consider updated value"
   ]
  },
  {
   "cell_type": "code",
   "execution_count": 1,
   "id": "550ee4ee",
   "metadata": {},
   "outputs": [],
   "source": [
    "temp = {'name':'Akash','Sal':45000,'city':'Pune'}"
   ]
  },
  {
   "cell_type": "code",
   "execution_count": 2,
   "id": "984cf16a",
   "metadata": {},
   "outputs": [
    {
     "data": {
      "text/plain": [
       "{'name': 'Akash', 'Sal': 45000, 'city': 'Pune'}"
      ]
     },
     "execution_count": 2,
     "metadata": {},
     "output_type": "execute_result"
    }
   ],
   "source": [
    "temp"
   ]
  },
  {
   "cell_type": "code",
   "execution_count": null,
   "id": "ee75a4c3",
   "metadata": {},
   "outputs": [],
   "source": [
    "mutable:\n",
    "    list\n",
    "    set\n",
    "    dict\n",
    "immutable:\n",
    "    tuple\n",
    "    str\n",
    "    int\n",
    "    frozenset"
   ]
  },
  {
   "cell_type": "code",
   "execution_count": null,
   "id": "bbe52681",
   "metadata": {},
   "outputs": [],
   "source": []
  },
  {
   "cell_type": "code",
   "execution_count": 3,
   "id": "2c614536",
   "metadata": {},
   "outputs": [],
   "source": [
    "p = {1:'a',2:'b'}"
   ]
  },
  {
   "cell_type": "code",
   "execution_count": 4,
   "id": "705ac085",
   "metadata": {},
   "outputs": [
    {
     "data": {
      "text/plain": [
       "{1: 'a', 2: 'b'}"
      ]
     },
     "execution_count": 4,
     "metadata": {},
     "output_type": "execute_result"
    }
   ],
   "source": [
    "p"
   ]
  },
  {
   "cell_type": "code",
   "execution_count": 5,
   "id": "9c4299a4",
   "metadata": {},
   "outputs": [],
   "source": [
    "emp = {'name':'Jon','id':101,'city':'Pune','address':'Pune','sal':95000}"
   ]
  },
  {
   "cell_type": "code",
   "execution_count": 6,
   "id": "61aa199b",
   "metadata": {},
   "outputs": [
    {
     "data": {
      "text/plain": [
       "{'name': 'Jon', 'id': 101, 'city': 'Pune', 'address': 'Pune', 'sal': 95000}"
      ]
     },
     "execution_count": 6,
     "metadata": {},
     "output_type": "execute_result"
    }
   ],
   "source": [
    "emp"
   ]
  },
  {
   "cell_type": "code",
   "execution_count": null,
   "id": "628be24d",
   "metadata": {},
   "outputs": [],
   "source": [
    "#how to access value from dict"
   ]
  },
  {
   "cell_type": "code",
   "execution_count": 7,
   "id": "092731be",
   "metadata": {},
   "outputs": [
    {
     "data": {
      "text/plain": [
       "'Pune'"
      ]
     },
     "execution_count": 7,
     "metadata": {},
     "output_type": "execute_result"
    }
   ],
   "source": [
    "emp['city']"
   ]
  },
  {
   "cell_type": "code",
   "execution_count": 8,
   "id": "ca489c75",
   "metadata": {},
   "outputs": [],
   "source": [
    "p = [1,2,3]"
   ]
  },
  {
   "cell_type": "code",
   "execution_count": 9,
   "id": "06a331d9",
   "metadata": {},
   "outputs": [
    {
     "data": {
      "text/plain": [
       "1"
      ]
     },
     "execution_count": 9,
     "metadata": {},
     "output_type": "execute_result"
    }
   ],
   "source": [
    "p[0]"
   ]
  },
  {
   "cell_type": "code",
   "execution_count": null,
   "id": "47a382e7",
   "metadata": {},
   "outputs": [],
   "source": [
    "element -- []\n",
    "\n",
    "method -- ()"
   ]
  },
  {
   "cell_type": "code",
   "execution_count": 10,
   "id": "2b5ce95f",
   "metadata": {},
   "outputs": [
    {
     "data": {
      "text/plain": [
       "{'name': 'Jon', 'id': 101, 'city': 'Pune', 'address': 'Pune', 'sal': 95000}"
      ]
     },
     "execution_count": 10,
     "metadata": {},
     "output_type": "execute_result"
    }
   ],
   "source": [
    "emp"
   ]
  },
  {
   "cell_type": "code",
   "execution_count": null,
   "id": "a3cdad3f",
   "metadata": {},
   "outputs": [],
   "source": [
    "dict value :\n",
    "    key"
   ]
  },
  {
   "cell_type": "code",
   "execution_count": 13,
   "id": "a7229c4d",
   "metadata": {},
   "outputs": [
    {
     "data": {
      "text/plain": [
       "95000"
      ]
     },
     "execution_count": 13,
     "metadata": {},
     "output_type": "execute_result"
    }
   ],
   "source": [
    "emp['sal']"
   ]
  },
  {
   "cell_type": "code",
   "execution_count": 14,
   "id": "8bcddfa2",
   "metadata": {},
   "outputs": [
    {
     "data": {
      "text/plain": [
       "95000"
      ]
     },
     "execution_count": 14,
     "metadata": {},
     "output_type": "execute_result"
    }
   ],
   "source": [
    "emp.get('sal')"
   ]
  },
  {
   "cell_type": "code",
   "execution_count": 15,
   "id": "72e0b012",
   "metadata": {},
   "outputs": [
    {
     "data": {
      "text/plain": [
       "{'name': 'Jon', 'id': 101, 'city': 'Pune', 'address': 'Pune', 'sal': 95000}"
      ]
     },
     "execution_count": 15,
     "metadata": {},
     "output_type": "execute_result"
    }
   ],
   "source": [
    "emp"
   ]
  },
  {
   "cell_type": "code",
   "execution_count": 16,
   "id": "2b83ea38",
   "metadata": {},
   "outputs": [
    {
     "ename": "KeyError",
     "evalue": "'dept'",
     "output_type": "error",
     "traceback": [
      "\u001b[1;31m---------------------------------------------------------------------------\u001b[0m",
      "\u001b[1;31mKeyError\u001b[0m                                  Traceback (most recent call last)",
      "\u001b[1;32m<ipython-input-16-449e45de7514>\u001b[0m in \u001b[0;36m<module>\u001b[1;34m\u001b[0m\n\u001b[1;32m----> 1\u001b[1;33m \u001b[0memp\u001b[0m\u001b[1;33m[\u001b[0m\u001b[1;34m'dept'\u001b[0m\u001b[1;33m]\u001b[0m\u001b[1;33m\u001b[0m\u001b[1;33m\u001b[0m\u001b[0m\n\u001b[0m",
      "\u001b[1;31mKeyError\u001b[0m: 'dept'"
     ]
    }
   ],
   "source": [
    "emp['dept']"
   ]
  },
  {
   "cell_type": "code",
   "execution_count": 23,
   "id": "45d19256",
   "metadata": {},
   "outputs": [
    {
     "data": {
      "text/plain": [
       "'not found'"
      ]
     },
     "execution_count": 23,
     "metadata": {},
     "output_type": "execute_result"
    }
   ],
   "source": [
    "emp.get('sdfsdfsdfsdf',\"not found\")"
   ]
  },
  {
   "cell_type": "code",
   "execution_count": 26,
   "id": "e273ae65",
   "metadata": {},
   "outputs": [],
   "source": [
    "a = {'sal':85000,'name':'Jacky','sal':95000,'sal':175000,'name':'Jon'}"
   ]
  },
  {
   "cell_type": "code",
   "execution_count": 27,
   "id": "cdb6d122",
   "metadata": {},
   "outputs": [
    {
     "data": {
      "text/plain": [
       "{'sal': 175000, 'name': 'Jon'}"
      ]
     },
     "execution_count": 27,
     "metadata": {},
     "output_type": "execute_result"
    }
   ],
   "source": [
    "a"
   ]
  },
  {
   "cell_type": "code",
   "execution_count": 28,
   "id": "d070fb5a",
   "metadata": {},
   "outputs": [
    {
     "data": {
      "text/plain": [
       "'Jon'"
      ]
     },
     "execution_count": 28,
     "metadata": {},
     "output_type": "execute_result"
    }
   ],
   "source": [
    "a['name']"
   ]
  },
  {
   "cell_type": "code",
   "execution_count": 29,
   "id": "3a75f782",
   "metadata": {},
   "outputs": [
    {
     "data": {
      "text/plain": [
       "175000"
      ]
     },
     "execution_count": 29,
     "metadata": {},
     "output_type": "execute_result"
    }
   ],
   "source": [
    "a['sal']"
   ]
  },
  {
   "cell_type": "code",
   "execution_count": null,
   "id": "69650cc5",
   "metadata": {},
   "outputs": [],
   "source": []
  },
  {
   "cell_type": "code",
   "execution_count": 30,
   "id": "5d797bc4",
   "metadata": {},
   "outputs": [],
   "source": [
    "details = {\n",
    "    'name':['jon','jacky','keshav'],\n",
    "    'sal':[75000,45000,96000],\n",
    "    'city':['US','UK','IND']\n",
    "}"
   ]
  },
  {
   "cell_type": "code",
   "execution_count": 32,
   "id": "ff586e44",
   "metadata": {},
   "outputs": [
    {
     "data": {
      "text/plain": [
       "{'name': ['jon', 'jacky', 'keshav'],\n",
       " 'sal': [75000, 45000, 96000],\n",
       " 'city': ['US', 'UK', 'IND']}"
      ]
     },
     "execution_count": 32,
     "metadata": {},
     "output_type": "execute_result"
    }
   ],
   "source": [
    "details"
   ]
  },
  {
   "cell_type": "code",
   "execution_count": 33,
   "id": "317e2f4e",
   "metadata": {},
   "outputs": [],
   "source": [
    "import pandas as pd"
   ]
  },
  {
   "cell_type": "code",
   "execution_count": 34,
   "id": "144fe125",
   "metadata": {},
   "outputs": [
    {
     "data": {
      "text/html": [
       "<div>\n",
       "<style scoped>\n",
       "    .dataframe tbody tr th:only-of-type {\n",
       "        vertical-align: middle;\n",
       "    }\n",
       "\n",
       "    .dataframe tbody tr th {\n",
       "        vertical-align: top;\n",
       "    }\n",
       "\n",
       "    .dataframe thead th {\n",
       "        text-align: right;\n",
       "    }\n",
       "</style>\n",
       "<table border=\"1\" class=\"dataframe\">\n",
       "  <thead>\n",
       "    <tr style=\"text-align: right;\">\n",
       "      <th></th>\n",
       "      <th>name</th>\n",
       "      <th>sal</th>\n",
       "      <th>city</th>\n",
       "    </tr>\n",
       "  </thead>\n",
       "  <tbody>\n",
       "    <tr>\n",
       "      <th>0</th>\n",
       "      <td>jon</td>\n",
       "      <td>75000</td>\n",
       "      <td>US</td>\n",
       "    </tr>\n",
       "    <tr>\n",
       "      <th>1</th>\n",
       "      <td>jacky</td>\n",
       "      <td>45000</td>\n",
       "      <td>UK</td>\n",
       "    </tr>\n",
       "    <tr>\n",
       "      <th>2</th>\n",
       "      <td>keshav</td>\n",
       "      <td>96000</td>\n",
       "      <td>IND</td>\n",
       "    </tr>\n",
       "  </tbody>\n",
       "</table>\n",
       "</div>"
      ],
      "text/plain": [
       "     name    sal city\n",
       "0     jon  75000   US\n",
       "1   jacky  45000   UK\n",
       "2  keshav  96000  IND"
      ]
     },
     "execution_count": 34,
     "metadata": {},
     "output_type": "execute_result"
    }
   ],
   "source": [
    "pd.DataFrame(details)"
   ]
  },
  {
   "cell_type": "code",
   "execution_count": null,
   "id": "f182e27a",
   "metadata": {},
   "outputs": [],
   "source": []
  },
  {
   "cell_type": "code",
   "execution_count": 35,
   "id": "3ce836bc",
   "metadata": {},
   "outputs": [
    {
     "data": {
      "text/plain": [
       "{'name': ['jon', 'jacky', 'keshav'],\n",
       " 'sal': [75000, 45000, 96000],\n",
       " 'city': ['US', 'UK', 'IND']}"
      ]
     },
     "execution_count": 35,
     "metadata": {},
     "output_type": "execute_result"
    }
   ],
   "source": [
    "details"
   ]
  },
  {
   "cell_type": "code",
   "execution_count": 37,
   "id": "ab7d5189",
   "metadata": {},
   "outputs": [
    {
     "data": {
      "text/plain": [
       "'jacky'"
      ]
     },
     "execution_count": 37,
     "metadata": {},
     "output_type": "execute_result"
    }
   ],
   "source": [
    "details['name'][1]"
   ]
  },
  {
   "cell_type": "code",
   "execution_count": 39,
   "id": "9f1bca77",
   "metadata": {},
   "outputs": [
    {
     "data": {
      "text/plain": [
       "96000"
      ]
     },
     "execution_count": 39,
     "metadata": {},
     "output_type": "execute_result"
    }
   ],
   "source": [
    "details['sal'][2]"
   ]
  },
  {
   "cell_type": "code",
   "execution_count": 41,
   "id": "ed67d846",
   "metadata": {},
   "outputs": [
    {
     "data": {
      "text/plain": [
       "'IND'"
      ]
     },
     "execution_count": 41,
     "metadata": {},
     "output_type": "execute_result"
    }
   ],
   "source": [
    "details['city'][-1]"
   ]
  },
  {
   "cell_type": "code",
   "execution_count": 47,
   "id": "9a8e0fef",
   "metadata": {},
   "outputs": [
    {
     "data": {
      "text/plain": [
       "['US', 'UK', 'IND']"
      ]
     },
     "execution_count": 47,
     "metadata": {},
     "output_type": "execute_result"
    }
   ],
   "source": [
    "details.get('city')"
   ]
  },
  {
   "cell_type": "code",
   "execution_count": 48,
   "id": "11ce0cbb",
   "metadata": {},
   "outputs": [
    {
     "data": {
      "text/plain": [
       "{'name': ['jon', 'jacky', 'keshav'],\n",
       " 'sal': [75000, 45000, 96000],\n",
       " 'city': ['US', 'UK', 'IND']}"
      ]
     },
     "execution_count": 48,
     "metadata": {},
     "output_type": "execute_result"
    }
   ],
   "source": [
    "details"
   ]
  },
  {
   "cell_type": "code",
   "execution_count": null,
   "id": "7034a17c",
   "metadata": {},
   "outputs": [],
   "source": []
  },
  {
   "cell_type": "code",
   "execution_count": 49,
   "id": "f4cb550c",
   "metadata": {},
   "outputs": [
    {
     "data": {
      "text/plain": [
       "{'name': 'Jon', 'id': 101, 'city': 'Pune', 'address': 'Pune', 'sal': 95000}"
      ]
     },
     "execution_count": 49,
     "metadata": {},
     "output_type": "execute_result"
    }
   ],
   "source": [
    "emp"
   ]
  },
  {
   "cell_type": "code",
   "execution_count": 50,
   "id": "7c36c410",
   "metadata": {},
   "outputs": [
    {
     "data": {
      "text/plain": [
       "dict_keys(['name', 'id', 'city', 'address', 'sal'])"
      ]
     },
     "execution_count": 50,
     "metadata": {},
     "output_type": "execute_result"
    }
   ],
   "source": [
    "emp.keys()"
   ]
  },
  {
   "cell_type": "code",
   "execution_count": 51,
   "id": "5f1e0780",
   "metadata": {},
   "outputs": [
    {
     "data": {
      "text/plain": [
       "dict_values(['Jon', 101, 'Pune', 'Pune', 95000])"
      ]
     },
     "execution_count": 51,
     "metadata": {},
     "output_type": "execute_result"
    }
   ],
   "source": [
    "emp.values()"
   ]
  },
  {
   "cell_type": "code",
   "execution_count": null,
   "id": "c6de1274",
   "metadata": {},
   "outputs": [],
   "source": []
  },
  {
   "cell_type": "code",
   "execution_count": 52,
   "id": "6e68783d",
   "metadata": {},
   "outputs": [],
   "source": [
    "p = []"
   ]
  },
  {
   "cell_type": "code",
   "execution_count": null,
   "id": "42681370",
   "metadata": {},
   "outputs": [],
   "source": [
    "p."
   ]
  },
  {
   "cell_type": "code",
   "execution_count": 53,
   "id": "2d402036",
   "metadata": {},
   "outputs": [],
   "source": [
    "d = {1,2}"
   ]
  },
  {
   "cell_type": "code",
   "execution_count": null,
   "id": "75127f3c",
   "metadata": {},
   "outputs": [],
   "source": [
    "notebook --> ML,DA,DE\n",
    "\n",
    "\n",
    "script --> pycharm,spyder,vscode"
   ]
  },
  {
   "cell_type": "code",
   "execution_count": 54,
   "id": "7e231863",
   "metadata": {},
   "outputs": [
    {
     "name": "stdout",
     "output_type": "stream",
     "text": [
      "08/05/22\n"
     ]
    }
   ],
   "source": [
    "import datetime\n",
    "dt = datetime.datetime.now().date()\n",
    "d = dt.strftime('%m/%d/%y')\n",
    "print(d)"
   ]
  },
  {
   "cell_type": "code",
   "execution_count": 55,
   "id": "47605046",
   "metadata": {},
   "outputs": [
    {
     "data": {
      "text/plain": [
       "{'name': 'Jon', 'id': 101, 'city': 'Pune', 'address': 'Pune', 'sal': 95000}"
      ]
     },
     "execution_count": 55,
     "metadata": {},
     "output_type": "execute_result"
    }
   ],
   "source": [
    "emp"
   ]
  },
  {
   "cell_type": "code",
   "execution_count": 56,
   "id": "9d2cf45c",
   "metadata": {},
   "outputs": [
    {
     "data": {
      "text/plain": [
       "dict_values(['Jon', 101, 'Pune', 'Pune', 95000])"
      ]
     },
     "execution_count": 56,
     "metadata": {},
     "output_type": "execute_result"
    }
   ],
   "source": [
    "emp.values()"
   ]
  },
  {
   "cell_type": "code",
   "execution_count": 57,
   "id": "5f7efe4d",
   "metadata": {},
   "outputs": [
    {
     "data": {
      "text/plain": [
       "dict_items([('name', 'Jon'), ('id', 101), ('city', 'Pune'), ('address', 'Pune'), ('sal', 95000)])"
      ]
     },
     "execution_count": 57,
     "metadata": {},
     "output_type": "execute_result"
    }
   ],
   "source": [
    "emp.items()"
   ]
  },
  {
   "cell_type": "code",
   "execution_count": 58,
   "id": "44208d6c",
   "metadata": {},
   "outputs": [
    {
     "data": {
      "text/plain": [
       "dict_items([('name', ['jon', 'jacky', 'keshav']), ('sal', [75000, 45000, 96000]), ('city', ['US', 'UK', 'IND'])])"
      ]
     },
     "execution_count": 58,
     "metadata": {},
     "output_type": "execute_result"
    }
   ],
   "source": [
    "details.items()"
   ]
  },
  {
   "cell_type": "code",
   "execution_count": 59,
   "id": "4884f466",
   "metadata": {},
   "outputs": [
    {
     "data": {
      "text/plain": [
       "dict_items([('name', 'Jon'), ('id', 101), ('city', 'Pune'), ('address', 'Pune'), ('sal', 95000)])"
      ]
     },
     "execution_count": 59,
     "metadata": {},
     "output_type": "execute_result"
    }
   ],
   "source": [
    "emp.items()"
   ]
  },
  {
   "cell_type": "code",
   "execution_count": 60,
   "id": "f79a0bdd",
   "metadata": {},
   "outputs": [
    {
     "data": {
      "text/plain": [
       "5"
      ]
     },
     "execution_count": 60,
     "metadata": {},
     "output_type": "execute_result"
    }
   ],
   "source": [
    "len(emp.items())"
   ]
  },
  {
   "cell_type": "code",
   "execution_count": 64,
   "id": "15aff7ba",
   "metadata": {},
   "outputs": [
    {
     "data": {
      "text/plain": [
       "[('name', 'Jon'),\n",
       " ('id', 101),\n",
       " ('city', 'Pune'),\n",
       " ('address', 'Pune'),\n",
       " ('sal', 95000)]"
      ]
     },
     "execution_count": 64,
     "metadata": {},
     "output_type": "execute_result"
    }
   ],
   "source": [
    "list(emp.items())"
   ]
  },
  {
   "cell_type": "code",
   "execution_count": 65,
   "id": "9cd6759e",
   "metadata": {},
   "outputs": [
    {
     "data": {
      "text/plain": [
       "{'name': ['jon', 'jacky', 'keshav'],\n",
       " 'sal': [75000, 45000, 96000],\n",
       " 'city': ['US', 'UK', 'IND']}"
      ]
     },
     "execution_count": 65,
     "metadata": {},
     "output_type": "execute_result"
    }
   ],
   "source": [
    "details"
   ]
  },
  {
   "cell_type": "code",
   "execution_count": 66,
   "id": "f068de44",
   "metadata": {},
   "outputs": [
    {
     "data": {
      "text/plain": [
       "3"
      ]
     },
     "execution_count": 66,
     "metadata": {},
     "output_type": "execute_result"
    }
   ],
   "source": [
    "len(details.values())"
   ]
  },
  {
   "cell_type": "code",
   "execution_count": 73,
   "id": "b07cea87",
   "metadata": {},
   "outputs": [],
   "source": [
    "d = {'name': ['jon','',''],\n",
    " 'sal': [75000, 45000, 96000],\n",
    " 'city': ['US', 'UK', 'IND']}"
   ]
  },
  {
   "cell_type": "code",
   "execution_count": 74,
   "id": "78955b28",
   "metadata": {},
   "outputs": [
    {
     "data": {
      "text/html": [
       "<div>\n",
       "<style scoped>\n",
       "    .dataframe tbody tr th:only-of-type {\n",
       "        vertical-align: middle;\n",
       "    }\n",
       "\n",
       "    .dataframe tbody tr th {\n",
       "        vertical-align: top;\n",
       "    }\n",
       "\n",
       "    .dataframe thead th {\n",
       "        text-align: right;\n",
       "    }\n",
       "</style>\n",
       "<table border=\"1\" class=\"dataframe\">\n",
       "  <thead>\n",
       "    <tr style=\"text-align: right;\">\n",
       "      <th></th>\n",
       "      <th>name</th>\n",
       "      <th>sal</th>\n",
       "      <th>city</th>\n",
       "    </tr>\n",
       "  </thead>\n",
       "  <tbody>\n",
       "    <tr>\n",
       "      <th>0</th>\n",
       "      <td>jon</td>\n",
       "      <td>75000</td>\n",
       "      <td>US</td>\n",
       "    </tr>\n",
       "    <tr>\n",
       "      <th>1</th>\n",
       "      <td></td>\n",
       "      <td>45000</td>\n",
       "      <td>UK</td>\n",
       "    </tr>\n",
       "    <tr>\n",
       "      <th>2</th>\n",
       "      <td></td>\n",
       "      <td>96000</td>\n",
       "      <td>IND</td>\n",
       "    </tr>\n",
       "  </tbody>\n",
       "</table>\n",
       "</div>"
      ],
      "text/plain": [
       "  name    sal city\n",
       "0  jon  75000   US\n",
       "1       45000   UK\n",
       "2       96000  IND"
      ]
     },
     "execution_count": 74,
     "metadata": {},
     "output_type": "execute_result"
    }
   ],
   "source": [
    "pd.DataFrame(d)"
   ]
  },
  {
   "cell_type": "code",
   "execution_count": 71,
   "id": "39c62f81",
   "metadata": {},
   "outputs": [],
   "source": [
    "#how read values from dict"
   ]
  },
  {
   "cell_type": "code",
   "execution_count": 16,
   "id": "72d4c08d",
   "metadata": {},
   "outputs": [],
   "source": [
    "emp = {'name': ['Jon','Jacky'], 'id': {101,102}, 'city': 'Pune', 'address': 'Pune', 'sal': 95000}"
   ]
  },
  {
   "cell_type": "code",
   "execution_count": 79,
   "id": "c579ebc8",
   "metadata": {},
   "outputs": [
    {
     "data": {
      "text/plain": [
       "{'name': ['Jon', 'Jacky'],\n",
       " 'id': {101, 102},\n",
       " 'city': 'Pune',\n",
       " 'address': 'Pune',\n",
       " 'sal': 95000}"
      ]
     },
     "execution_count": 79,
     "metadata": {},
     "output_type": "execute_result"
    }
   ],
   "source": [
    "emp"
   ]
  },
  {
   "cell_type": "code",
   "execution_count": 80,
   "id": "f9dc0c9a",
   "metadata": {},
   "outputs": [],
   "source": [
    "d = {'address':{'city':\"pune\",'pincode':411046}}"
   ]
  },
  {
   "cell_type": "code",
   "execution_count": 82,
   "id": "f2835f19",
   "metadata": {},
   "outputs": [
    {
     "data": {
      "text/plain": [
       "411046"
      ]
     },
     "execution_count": 82,
     "metadata": {},
     "output_type": "execute_result"
    }
   ],
   "source": [
    "d['address']['pincode']"
   ]
  },
  {
   "cell_type": "code",
   "execution_count": 1,
   "id": "b64a6747",
   "metadata": {},
   "outputs": [],
   "source": [
    "emp = {'name': 'Jon', 'id': 101, 'city': 'Pune', 'address': 'Pune', 'sal': 95000}"
   ]
  },
  {
   "cell_type": "code",
   "execution_count": 2,
   "id": "3f2dae3c",
   "metadata": {},
   "outputs": [
    {
     "data": {
      "text/plain": [
       "{'name': 'Jon', 'id': 101, 'city': 'Pune', 'address': 'Pune', 'sal': 95000}"
      ]
     },
     "execution_count": 2,
     "metadata": {},
     "output_type": "execute_result"
    }
   ],
   "source": [
    "emp"
   ]
  },
  {
   "cell_type": "code",
   "execution_count": 3,
   "id": "bc23f4d2",
   "metadata": {},
   "outputs": [
    {
     "data": {
      "text/plain": [
       "dict_items([('name', 'Jon'), ('id', 101), ('city', 'Pune'), ('address', 'Pune'), ('sal', 95000)])"
      ]
     },
     "execution_count": 3,
     "metadata": {},
     "output_type": "execute_result"
    }
   ],
   "source": [
    "emp.items()"
   ]
  },
  {
   "cell_type": "code",
   "execution_count": 4,
   "id": "adf0bc68",
   "metadata": {},
   "outputs": [
    {
     "data": {
      "text/plain": [
       "dict_values(['Jon', 101, 'Pune', 'Pune', 95000])"
      ]
     },
     "execution_count": 4,
     "metadata": {},
     "output_type": "execute_result"
    }
   ],
   "source": [
    "emp.values()"
   ]
  },
  {
   "cell_type": "code",
   "execution_count": 5,
   "id": "a573a037",
   "metadata": {},
   "outputs": [
    {
     "data": {
      "text/plain": [
       "dict_keys(['name', 'id', 'city', 'address', 'sal'])"
      ]
     },
     "execution_count": 5,
     "metadata": {},
     "output_type": "execute_result"
    }
   ],
   "source": [
    "emp.keys()"
   ]
  },
  {
   "cell_type": "code",
   "execution_count": 6,
   "id": "714b5390",
   "metadata": {},
   "outputs": [
    {
     "data": {
      "text/plain": [
       "'Jon'"
      ]
     },
     "execution_count": 6,
     "metadata": {},
     "output_type": "execute_result"
    }
   ],
   "source": [
    "emp['name']"
   ]
  },
  {
   "cell_type": "code",
   "execution_count": 9,
   "id": "d0786753",
   "metadata": {},
   "outputs": [
    {
     "data": {
      "text/plain": [
       "'not found'"
      ]
     },
     "execution_count": 9,
     "metadata": {},
     "output_type": "execute_result"
    }
   ],
   "source": [
    "emp.get('namesfdsdf','not found')"
   ]
  },
  {
   "cell_type": "code",
   "execution_count": 10,
   "id": "63a17519",
   "metadata": {},
   "outputs": [
    {
     "data": {
      "text/plain": [
       "{'name': 'Jon', 'id': 101, 'city': 'Pune', 'address': 'Pune', 'sal': 95000}"
      ]
     },
     "execution_count": 10,
     "metadata": {},
     "output_type": "execute_result"
    }
   ],
   "source": [
    "emp"
   ]
  },
  {
   "cell_type": "code",
   "execution_count": 11,
   "id": "a21441a5",
   "metadata": {},
   "outputs": [
    {
     "data": {
      "text/plain": [
       "{'name': 'Jon', 'id': 101, 'city': 'Pune', 'address': 'Pune', 'sal': 95000}"
      ]
     },
     "execution_count": 11,
     "metadata": {},
     "output_type": "execute_result"
    }
   ],
   "source": [
    "emp"
   ]
  },
  {
   "cell_type": "code",
   "execution_count": 12,
   "id": "29be7791",
   "metadata": {},
   "outputs": [],
   "source": [
    "emp['city'] = 'Mumbai'"
   ]
  },
  {
   "cell_type": "code",
   "execution_count": 13,
   "id": "cac7f1c5",
   "metadata": {},
   "outputs": [
    {
     "data": {
      "text/plain": [
       "{'name': 'Jon', 'id': 101, 'city': 'Mumbai', 'address': 'Pune', 'sal': 95000}"
      ]
     },
     "execution_count": 13,
     "metadata": {},
     "output_type": "execute_result"
    }
   ],
   "source": [
    "emp"
   ]
  },
  {
   "cell_type": "code",
   "execution_count": 14,
   "id": "a927f6dc",
   "metadata": {},
   "outputs": [],
   "source": [
    "emp['name'] = 'Keshav'"
   ]
  },
  {
   "cell_type": "code",
   "execution_count": 15,
   "id": "a3ad7b79",
   "metadata": {},
   "outputs": [
    {
     "data": {
      "text/plain": [
       "{'name': 'Keshav',\n",
       " 'id': 101,\n",
       " 'city': 'Mumbai',\n",
       " 'address': 'Pune',\n",
       " 'sal': 95000}"
      ]
     },
     "execution_count": 15,
     "metadata": {},
     "output_type": "execute_result"
    }
   ],
   "source": [
    "emp"
   ]
  },
  {
   "cell_type": "code",
   "execution_count": 17,
   "id": "002376c9",
   "metadata": {},
   "outputs": [
    {
     "data": {
      "text/plain": [
       "{'name': ['Jon', 'Jacky'],\n",
       " 'id': {101, 102},\n",
       " 'city': 'Pune',\n",
       " 'address': 'Pune',\n",
       " 'sal': 95000}"
      ]
     },
     "execution_count": 17,
     "metadata": {},
     "output_type": "execute_result"
    }
   ],
   "source": [
    "emp"
   ]
  },
  {
   "cell_type": "code",
   "execution_count": 19,
   "id": "3af9b23f",
   "metadata": {},
   "outputs": [],
   "source": [
    "emp['name'][0] = 'new jon'"
   ]
  },
  {
   "cell_type": "code",
   "execution_count": 20,
   "id": "d211401b",
   "metadata": {},
   "outputs": [
    {
     "data": {
      "text/plain": [
       "{'name': ['new jon', 'Jacky'],\n",
       " 'id': {101, 102},\n",
       " 'city': 'Pune',\n",
       " 'address': 'Pune',\n",
       " 'sal': 95000}"
      ]
     },
     "execution_count": 20,
     "metadata": {},
     "output_type": "execute_result"
    }
   ],
   "source": [
    "emp"
   ]
  },
  {
   "cell_type": "code",
   "execution_count": 21,
   "id": "69a1968a",
   "metadata": {},
   "outputs": [],
   "source": [
    "prd = {'prdname':'Copper','prdqnty': 100}"
   ]
  },
  {
   "cell_type": "code",
   "execution_count": 22,
   "id": "736065a6",
   "metadata": {},
   "outputs": [
    {
     "data": {
      "text/plain": [
       "{'prdname': 'Copper', 'prdqnty': 100}"
      ]
     },
     "execution_count": 22,
     "metadata": {},
     "output_type": "execute_result"
    }
   ],
   "source": [
    "prd"
   ]
  },
  {
   "cell_type": "code",
   "execution_count": 23,
   "id": "e423ee68",
   "metadata": {},
   "outputs": [],
   "source": [
    "#insert operation in dict"
   ]
  },
  {
   "cell_type": "code",
   "execution_count": 24,
   "id": "b2a3563b",
   "metadata": {},
   "outputs": [],
   "source": [
    "prd['prdprice'] = 450"
   ]
  },
  {
   "cell_type": "code",
   "execution_count": 25,
   "id": "8a3a29a5",
   "metadata": {},
   "outputs": [
    {
     "data": {
      "text/plain": [
       "{'prdname': 'Copper', 'prdqnty': 100, 'prdprice': 450}"
      ]
     },
     "execution_count": 25,
     "metadata": {},
     "output_type": "execute_result"
    }
   ],
   "source": [
    "prd"
   ]
  },
  {
   "cell_type": "code",
   "execution_count": 26,
   "id": "d24f941b",
   "metadata": {},
   "outputs": [],
   "source": [
    "#mulitple insertion operation"
   ]
  },
  {
   "cell_type": "code",
   "execution_count": 27,
   "id": "ba88a319",
   "metadata": {},
   "outputs": [],
   "source": [
    "prd.update({'a':100,'b':200,'c':300})"
   ]
  },
  {
   "cell_type": "code",
   "execution_count": 28,
   "id": "1518850c",
   "metadata": {},
   "outputs": [
    {
     "data": {
      "text/plain": [
       "{'prdname': 'Copper',\n",
       " 'prdqnty': 100,\n",
       " 'prdprice': 450,\n",
       " 'a': 100,\n",
       " 'b': 200,\n",
       " 'c': 300}"
      ]
     },
     "execution_count": 28,
     "metadata": {},
     "output_type": "execute_result"
    }
   ],
   "source": [
    "prd"
   ]
  },
  {
   "cell_type": "code",
   "execution_count": null,
   "id": "6f24d530",
   "metadata": {},
   "outputs": [],
   "source": []
  },
  {
   "cell_type": "code",
   "execution_count": 29,
   "id": "01218fad",
   "metadata": {},
   "outputs": [],
   "source": [
    "k = ('name','id','sal')"
   ]
  },
  {
   "cell_type": "code",
   "execution_count": 33,
   "id": "8b35ccdf",
   "metadata": {},
   "outputs": [],
   "source": [
    "p = dict.fromkeys(k,100)"
   ]
  },
  {
   "cell_type": "code",
   "execution_count": 31,
   "id": "c3a8db8e",
   "metadata": {},
   "outputs": [
    {
     "data": {
      "text/plain": [
       "{'name': ['new jon', 'Jacky'],\n",
       " 'id': {101, 102},\n",
       " 'city': 'Pune',\n",
       " 'address': 'Pune',\n",
       " 'sal': 95000}"
      ]
     },
     "execution_count": 31,
     "metadata": {},
     "output_type": "execute_result"
    }
   ],
   "source": [
    "emp"
   ]
  },
  {
   "cell_type": "code",
   "execution_count": 34,
   "id": "a9b4abda",
   "metadata": {},
   "outputs": [
    {
     "data": {
      "text/plain": [
       "{'name': 100, 'id': 100, 'sal': 100}"
      ]
     },
     "execution_count": 34,
     "metadata": {},
     "output_type": "execute_result"
    }
   ],
   "source": [
    "p"
   ]
  },
  {
   "cell_type": "code",
   "execution_count": 35,
   "id": "09da6a92",
   "metadata": {},
   "outputs": [],
   "source": [
    "p['name'] = 'xy'"
   ]
  },
  {
   "cell_type": "code",
   "execution_count": 36,
   "id": "b1659eeb",
   "metadata": {},
   "outputs": [
    {
     "data": {
      "text/plain": [
       "{'name': 'xy', 'id': 100, 'sal': 100}"
      ]
     },
     "execution_count": 36,
     "metadata": {},
     "output_type": "execute_result"
    }
   ],
   "source": [
    "p"
   ]
  },
  {
   "cell_type": "code",
   "execution_count": 37,
   "id": "7599c773",
   "metadata": {},
   "outputs": [],
   "source": [
    "p['id']= 145"
   ]
  },
  {
   "cell_type": "code",
   "execution_count": 38,
   "id": "b349728e",
   "metadata": {},
   "outputs": [],
   "source": [
    "p['sal'] = 49594"
   ]
  },
  {
   "cell_type": "code",
   "execution_count": 39,
   "id": "7258b5c6",
   "metadata": {},
   "outputs": [
    {
     "data": {
      "text/plain": [
       "{'name': 'xy', 'id': 145, 'sal': 49594}"
      ]
     },
     "execution_count": 39,
     "metadata": {},
     "output_type": "execute_result"
    }
   ],
   "source": [
    "p"
   ]
  },
  {
   "cell_type": "code",
   "execution_count": 40,
   "id": "190ad707",
   "metadata": {},
   "outputs": [],
   "source": [
    "py = ['prdname','prdqnty','prdprice']"
   ]
  },
  {
   "cell_type": "code",
   "execution_count": 41,
   "id": "b2f568fb",
   "metadata": {},
   "outputs": [
    {
     "data": {
      "text/plain": [
       "{'prdname': None, 'prdqnty': None, 'prdprice': None}"
      ]
     },
     "execution_count": 41,
     "metadata": {},
     "output_type": "execute_result"
    }
   ],
   "source": [
    "dict.fromkeys(py)"
   ]
  },
  {
   "cell_type": "code",
   "execution_count": 42,
   "id": "2db8d23a",
   "metadata": {},
   "outputs": [],
   "source": [
    "#deletion operation on dict"
   ]
  },
  {
   "cell_type": "code",
   "execution_count": 43,
   "id": "619728c0",
   "metadata": {},
   "outputs": [
    {
     "data": {
      "text/plain": [
       "{'name': 'xy', 'id': 145, 'sal': 49594}"
      ]
     },
     "execution_count": 43,
     "metadata": {},
     "output_type": "execute_result"
    }
   ],
   "source": [
    "p"
   ]
  },
  {
   "cell_type": "code",
   "execution_count": 44,
   "id": "25c617e3",
   "metadata": {},
   "outputs": [
    {
     "data": {
      "text/plain": [
       "145"
      ]
     },
     "execution_count": 44,
     "metadata": {},
     "output_type": "execute_result"
    }
   ],
   "source": [
    "p.pop('id')"
   ]
  },
  {
   "cell_type": "code",
   "execution_count": 45,
   "id": "88cf6fc0",
   "metadata": {},
   "outputs": [
    {
     "data": {
      "text/plain": [
       "{'name': 'xy', 'sal': 49594}"
      ]
     },
     "execution_count": 45,
     "metadata": {},
     "output_type": "execute_result"
    }
   ],
   "source": [
    "p"
   ]
  },
  {
   "cell_type": "code",
   "execution_count": 46,
   "id": "3c1c6c0a",
   "metadata": {},
   "outputs": [
    {
     "ename": "TypeError",
     "evalue": "pop expected at least 1 argument, got 0",
     "output_type": "error",
     "traceback": [
      "\u001b[1;31m---------------------------------------------------------------------------\u001b[0m",
      "\u001b[1;31mTypeError\u001b[0m                                 Traceback (most recent call last)",
      "\u001b[1;32m<ipython-input-46-6bdba5e9de30>\u001b[0m in \u001b[0;36m<module>\u001b[1;34m\u001b[0m\n\u001b[1;32m----> 1\u001b[1;33m \u001b[0mp\u001b[0m\u001b[1;33m.\u001b[0m\u001b[0mpop\u001b[0m\u001b[1;33m(\u001b[0m\u001b[1;33m)\u001b[0m\u001b[1;33m\u001b[0m\u001b[1;33m\u001b[0m\u001b[0m\n\u001b[0m",
      "\u001b[1;31mTypeError\u001b[0m: pop expected at least 1 argument, got 0"
     ]
    }
   ],
   "source": [
    "p.pop()"
   ]
  },
  {
   "cell_type": "code",
   "execution_count": null,
   "id": "f2034a22",
   "metadata": {},
   "outputs": [],
   "source": [
    "Note: pop always take one arg --> key"
   ]
  },
  {
   "cell_type": "code",
   "execution_count": 48,
   "id": "a492e55d",
   "metadata": {},
   "outputs": [
    {
     "data": {
      "text/plain": [
       "49594"
      ]
     },
     "execution_count": 48,
     "metadata": {},
     "output_type": "execute_result"
    }
   ],
   "source": [
    "p.pop('sal')"
   ]
  },
  {
   "cell_type": "code",
   "execution_count": 49,
   "id": "528c4549",
   "metadata": {},
   "outputs": [
    {
     "data": {
      "text/plain": [
       "{'name': 'xy'}"
      ]
     },
     "execution_count": 49,
     "metadata": {},
     "output_type": "execute_result"
    }
   ],
   "source": [
    "p"
   ]
  },
  {
   "cell_type": "code",
   "execution_count": null,
   "id": "07510d8e",
   "metadata": {},
   "outputs": [],
   "source": []
  },
  {
   "cell_type": "code",
   "execution_count": 60,
   "id": "44e3c526",
   "metadata": {},
   "outputs": [],
   "source": [
    "e = {'name': 'Jon', 'id': 101, 'city': 'Mumbai', 'address': 'Pune', 'sal': 95000}"
   ]
  },
  {
   "cell_type": "code",
   "execution_count": 51,
   "id": "5fffe317",
   "metadata": {},
   "outputs": [
    {
     "data": {
      "text/plain": [
       "('sal', 95000)"
      ]
     },
     "execution_count": 51,
     "metadata": {},
     "output_type": "execute_result"
    }
   ],
   "source": [
    "e.popitem()"
   ]
  },
  {
   "cell_type": "code",
   "execution_count": 52,
   "id": "04759b0c",
   "metadata": {},
   "outputs": [
    {
     "data": {
      "text/plain": [
       "{'name': 'Jon', 'id': 101, 'city': 'Mumbai', 'address': 'Pune'}"
      ]
     },
     "execution_count": 52,
     "metadata": {},
     "output_type": "execute_result"
    }
   ],
   "source": [
    "e"
   ]
  },
  {
   "cell_type": "code",
   "execution_count": 53,
   "id": "86aba89f",
   "metadata": {},
   "outputs": [
    {
     "data": {
      "text/plain": [
       "('address', 'Pune')"
      ]
     },
     "execution_count": 53,
     "metadata": {},
     "output_type": "execute_result"
    }
   ],
   "source": [
    "e.popitem()"
   ]
  },
  {
   "cell_type": "code",
   "execution_count": 54,
   "id": "c4c8b3cf",
   "metadata": {},
   "outputs": [
    {
     "data": {
      "text/plain": [
       "{'name': 'Jon', 'id': 101, 'city': 'Mumbai'}"
      ]
     },
     "execution_count": 54,
     "metadata": {},
     "output_type": "execute_result"
    }
   ],
   "source": [
    "e"
   ]
  },
  {
   "cell_type": "code",
   "execution_count": null,
   "id": "2f71b4fe",
   "metadata": {},
   "outputs": [],
   "source": [
    "pop -> specified item \n",
    "popitem -- > LIFO"
   ]
  },
  {
   "cell_type": "code",
   "execution_count": 55,
   "id": "acc37caf",
   "metadata": {},
   "outputs": [
    {
     "data": {
      "text/plain": [
       "{'name': 'Jon', 'id': 101, 'city': 'Mumbai'}"
      ]
     },
     "execution_count": 55,
     "metadata": {},
     "output_type": "execute_result"
    }
   ],
   "source": [
    "e"
   ]
  },
  {
   "cell_type": "code",
   "execution_count": 56,
   "id": "9d658a93",
   "metadata": {},
   "outputs": [
    {
     "data": {
      "text/plain": [
       "101"
      ]
     },
     "execution_count": 56,
     "metadata": {},
     "output_type": "execute_result"
    }
   ],
   "source": [
    "e.pop('id')"
   ]
  },
  {
   "cell_type": "code",
   "execution_count": 57,
   "id": "d426463a",
   "metadata": {},
   "outputs": [
    {
     "data": {
      "text/plain": [
       "{'name': 'Jon', 'city': 'Mumbai'}"
      ]
     },
     "execution_count": 57,
     "metadata": {},
     "output_type": "execute_result"
    }
   ],
   "source": [
    "e"
   ]
  },
  {
   "cell_type": "code",
   "execution_count": 58,
   "id": "461ff814",
   "metadata": {},
   "outputs": [
    {
     "data": {
      "text/plain": [
       "('city', 'Mumbai')"
      ]
     },
     "execution_count": 58,
     "metadata": {},
     "output_type": "execute_result"
    }
   ],
   "source": [
    "e.popitem()"
   ]
  },
  {
   "cell_type": "code",
   "execution_count": 59,
   "id": "54ffbcef",
   "metadata": {},
   "outputs": [
    {
     "data": {
      "text/plain": [
       "{'name': 'Jon'}"
      ]
     },
     "execution_count": 59,
     "metadata": {},
     "output_type": "execute_result"
    }
   ],
   "source": [
    "e"
   ]
  },
  {
   "cell_type": "code",
   "execution_count": 61,
   "id": "2a14e444",
   "metadata": {},
   "outputs": [
    {
     "data": {
      "text/plain": [
       "{'name': 'Jon', 'id': 101, 'city': 'Mumbai', 'address': 'Pune', 'sal': 95000}"
      ]
     },
     "execution_count": 61,
     "metadata": {},
     "output_type": "execute_result"
    }
   ],
   "source": [
    "e"
   ]
  },
  {
   "cell_type": "code",
   "execution_count": null,
   "id": "9e6ec26d",
   "metadata": {},
   "outputs": [],
   "source": [
    "already key present --> do nothing\n",
    "\n",
    "if not then insert"
   ]
  },
  {
   "cell_type": "code",
   "execution_count": 62,
   "id": "fb5a00c5",
   "metadata": {},
   "outputs": [
    {
     "data": {
      "text/plain": [
       "'Jon'"
      ]
     },
     "execution_count": 62,
     "metadata": {},
     "output_type": "execute_result"
    }
   ],
   "source": [
    "e.setdefault('name','justin')"
   ]
  },
  {
   "cell_type": "code",
   "execution_count": 63,
   "id": "b46d6afd",
   "metadata": {},
   "outputs": [
    {
     "data": {
      "text/plain": [
       "{'name': 'Jon', 'id': 101, 'city': 'Mumbai', 'address': 'Pune', 'sal': 95000}"
      ]
     },
     "execution_count": 63,
     "metadata": {},
     "output_type": "execute_result"
    }
   ],
   "source": [
    "e"
   ]
  },
  {
   "cell_type": "code",
   "execution_count": 64,
   "id": "6bd0f6bc",
   "metadata": {},
   "outputs": [
    {
     "data": {
      "text/plain": [
       "95494949"
      ]
     },
     "execution_count": 64,
     "metadata": {},
     "output_type": "execute_result"
    }
   ],
   "source": [
    "e.setdefault('cellno',95494949)"
   ]
  },
  {
   "cell_type": "code",
   "execution_count": 65,
   "id": "53caae2c",
   "metadata": {},
   "outputs": [
    {
     "data": {
      "text/plain": [
       "{'name': 'Jon',\n",
       " 'id': 101,\n",
       " 'city': 'Mumbai',\n",
       " 'address': 'Pune',\n",
       " 'sal': 95000,\n",
       " 'cellno': 95494949}"
      ]
     },
     "execution_count": 65,
     "metadata": {},
     "output_type": "execute_result"
    }
   ],
   "source": [
    "e"
   ]
  },
  {
   "cell_type": "code",
   "execution_count": 66,
   "id": "7b61c3ef",
   "metadata": {},
   "outputs": [
    {
     "data": {
      "text/plain": [
       "'Mumbai'"
      ]
     },
     "execution_count": 66,
     "metadata": {},
     "output_type": "execute_result"
    }
   ],
   "source": [
    "e.setdefault('city','pune')"
   ]
  },
  {
   "cell_type": "code",
   "execution_count": 67,
   "id": "3aadb9db",
   "metadata": {},
   "outputs": [
    {
     "data": {
      "text/plain": [
       "{'name': 'Jon',\n",
       " 'id': 101,\n",
       " 'city': 'Mumbai',\n",
       " 'address': 'Pune',\n",
       " 'sal': 95000,\n",
       " 'cellno': 95494949}"
      ]
     },
     "execution_count": 67,
     "metadata": {},
     "output_type": "execute_result"
    }
   ],
   "source": [
    "e"
   ]
  },
  {
   "cell_type": "code",
   "execution_count": 68,
   "id": "08e21300",
   "metadata": {},
   "outputs": [
    {
     "data": {
      "text/plain": [
       "1919419"
      ]
     },
     "execution_count": 68,
     "metadata": {},
     "output_type": "execute_result"
    }
   ],
   "source": [
    "e.setdefault('keysdf',1919419)"
   ]
  },
  {
   "cell_type": "code",
   "execution_count": 69,
   "id": "b559d80e",
   "metadata": {},
   "outputs": [
    {
     "data": {
      "text/plain": [
       "{'name': 'Jon',\n",
       " 'id': 101,\n",
       " 'city': 'Mumbai',\n",
       " 'address': 'Pune',\n",
       " 'sal': 95000,\n",
       " 'cellno': 95494949,\n",
       " 'keysdf': 1919419}"
      ]
     },
     "execution_count": 69,
     "metadata": {},
     "output_type": "execute_result"
    }
   ],
   "source": [
    "e"
   ]
  },
  {
   "cell_type": "code",
   "execution_count": 70,
   "id": "ad268353",
   "metadata": {},
   "outputs": [],
   "source": [
    "e.clear()"
   ]
  },
  {
   "cell_type": "code",
   "execution_count": 71,
   "id": "39663976",
   "metadata": {},
   "outputs": [
    {
     "data": {
      "text/plain": [
       "{}"
      ]
     },
     "execution_count": 71,
     "metadata": {},
     "output_type": "execute_result"
    }
   ],
   "source": [
    "e"
   ]
  },
  {
   "cell_type": "code",
   "execution_count": 72,
   "id": "3830955c",
   "metadata": {},
   "outputs": [
    {
     "data": {
      "text/plain": [
       "dict"
      ]
     },
     "execution_count": 72,
     "metadata": {},
     "output_type": "execute_result"
    }
   ],
   "source": [
    "type(e)"
   ]
  },
  {
   "cell_type": "code",
   "execution_count": 73,
   "id": "a1dd5aa4",
   "metadata": {},
   "outputs": [],
   "source": [
    "e  = {'name': 'Jon', 'id': 101, 'city': 'Mumbai', 'address': 'Pune', 'sal': 95000}"
   ]
  },
  {
   "cell_type": "code",
   "execution_count": 74,
   "id": "185b1a72",
   "metadata": {},
   "outputs": [
    {
     "data": {
      "text/plain": [
       "{'name': 'Jon', 'id': 101, 'city': 'Mumbai', 'address': 'Pune', 'sal': 95000}"
      ]
     },
     "execution_count": 74,
     "metadata": {},
     "output_type": "execute_result"
    }
   ],
   "source": [
    "e"
   ]
  },
  {
   "cell_type": "code",
   "execution_count": 75,
   "id": "5c93d110",
   "metadata": {},
   "outputs": [],
   "source": [
    "e1 = e.copy()"
   ]
  },
  {
   "cell_type": "code",
   "execution_count": 76,
   "id": "132e78ee",
   "metadata": {},
   "outputs": [
    {
     "data": {
      "text/plain": [
       "{'name': 'Jon', 'id': 101, 'city': 'Mumbai', 'address': 'Pune', 'sal': 95000}"
      ]
     },
     "execution_count": 76,
     "metadata": {},
     "output_type": "execute_result"
    }
   ],
   "source": [
    "e1"
   ]
  },
  {
   "cell_type": "code",
   "execution_count": null,
   "id": "4fdb79b6",
   "metadata": {},
   "outputs": [],
   "source": [
    "copy\n",
    "setdefault(key,value)\n",
    "get(key)\n",
    "pop(key)\n",
    "popitem()\n",
    "update ---({dict}) \n",
    "fromkeys - key\n",
    "values()\n",
    "keys()\n",
    "items()\n",
    "clear()"
   ]
  },
  {
   "cell_type": "code",
   "execution_count": 79,
   "id": "b99cf58d",
   "metadata": {},
   "outputs": [],
   "source": [
    "p = {100.5:'temp',200:'test'}"
   ]
  },
  {
   "cell_type": "code",
   "execution_count": 80,
   "id": "9d108898",
   "metadata": {},
   "outputs": [
    {
     "data": {
      "text/plain": [
       "{100.5: 'temp', 200: 'test'}"
      ]
     },
     "execution_count": 80,
     "metadata": {},
     "output_type": "execute_result"
    }
   ],
   "source": [
    "p"
   ]
  },
  {
   "cell_type": "code",
   "execution_count": 81,
   "id": "3702a8e1",
   "metadata": {},
   "outputs": [],
   "source": [
    "k = ('a','b','c')"
   ]
  },
  {
   "cell_type": "code",
   "execution_count": 83,
   "id": "7310b685",
   "metadata": {},
   "outputs": [],
   "source": [
    "t = dict.fromkeys(k)"
   ]
  },
  {
   "cell_type": "code",
   "execution_count": 84,
   "id": "38a4b581",
   "metadata": {},
   "outputs": [],
   "source": [
    "t['b']=450"
   ]
  },
  {
   "cell_type": "code",
   "execution_count": 85,
   "id": "03a1776c",
   "metadata": {},
   "outputs": [
    {
     "data": {
      "text/plain": [
       "{'a': None, 'b': 450, 'c': None}"
      ]
     },
     "execution_count": 85,
     "metadata": {},
     "output_type": "execute_result"
    }
   ],
   "source": [
    "t"
   ]
  },
  {
   "cell_type": "code",
   "execution_count": 86,
   "id": "eb554b2f",
   "metadata": {},
   "outputs": [
    {
     "data": {
      "text/plain": [
       "('c', None)"
      ]
     },
     "execution_count": 86,
     "metadata": {},
     "output_type": "execute_result"
    }
   ],
   "source": [
    "t.popitem()"
   ]
  },
  {
   "cell_type": "code",
   "execution_count": 87,
   "id": "4f4a8b9f",
   "metadata": {},
   "outputs": [
    {
     "data": {
      "text/plain": [
       "{'a': None, 'b': 450}"
      ]
     },
     "execution_count": 87,
     "metadata": {},
     "output_type": "execute_result"
    }
   ],
   "source": [
    "t"
   ]
  },
  {
   "cell_type": "code",
   "execution_count": 88,
   "id": "aa33e447",
   "metadata": {},
   "outputs": [],
   "source": [
    "t = {'a':100,'a':200,'a':300,'a':400}"
   ]
  },
  {
   "cell_type": "code",
   "execution_count": 89,
   "id": "d24ebb43",
   "metadata": {},
   "outputs": [
    {
     "data": {
      "text/plain": [
       "{'a': 400}"
      ]
     },
     "execution_count": 89,
     "metadata": {},
     "output_type": "execute_result"
    }
   ],
   "source": [
    "t"
   ]
  },
  {
   "cell_type": "code",
   "execution_count": 91,
   "id": "0f2e5a54",
   "metadata": {},
   "outputs": [
    {
     "data": {
      "text/plain": [
       "400"
      ]
     },
     "execution_count": 91,
     "metadata": {},
     "output_type": "execute_result"
    }
   ],
   "source": [
    "t.pop('a')"
   ]
  },
  {
   "cell_type": "code",
   "execution_count": 92,
   "id": "101d1edb",
   "metadata": {},
   "outputs": [
    {
     "data": {
      "text/plain": [
       "{}"
      ]
     },
     "execution_count": 92,
     "metadata": {},
     "output_type": "execute_result"
    }
   ],
   "source": [
    "t"
   ]
  },
  {
   "cell_type": "code",
   "execution_count": null,
   "id": "6635f5f9",
   "metadata": {},
   "outputs": [],
   "source": []
  }
 ],
 "metadata": {
  "kernelspec": {
   "display_name": "Python 3",
   "language": "python",
   "name": "python3"
  },
  "language_info": {
   "codemirror_mode": {
    "name": "ipython",
    "version": 3
   },
   "file_extension": ".py",
   "mimetype": "text/x-python",
   "name": "python",
   "nbconvert_exporter": "python",
   "pygments_lexer": "ipython3",
   "version": "3.8.8"
  }
 },
 "nbformat": 4,
 "nbformat_minor": 5
}
